{
  "nbformat": 4,
  "nbformat_minor": 0,
  "metadata": {
    "colab": {
      "name": "Lab3test.ipynb",
      "provenance": [],
      "collapsed_sections": [],
      "authorship_tag": "ABX9TyMcpJoPWZ9OdpIqfvwK68Te",
      "include_colab_link": true
    },
    "kernelspec": {
      "name": "python3",
      "display_name": "Python 3"
    },
    "language_info": {
      "name": "python"
    }
  },
  "cells": [
    {
      "cell_type": "markdown",
      "metadata": {
        "id": "view-in-github",
        "colab_type": "text"
      },
      "source": [
        "<a href=\"https://colab.research.google.com/github/KezhenLi/PHYS273Lab3test/blob/main/Lab3test.ipynb\" target=\"_parent\"><img src=\"https://colab.research.google.com/assets/colab-badge.svg\" alt=\"Open In Colab\"/></a>"
      ]
    },
    {
      "cell_type": "code",
      "execution_count": null,
      "metadata": {
        "id": "4aqGO7Zyhuyc"
      },
      "outputs": [],
      "source": [
        "# import libraries\n",
        "import numpy as np\n",
        "from matplotlib import pyplot as plt"
      ]
    },
    {
      "cell_type": "code",
      "source": [
        "cm = 0.01\n",
        "r = np.array([2.2,1.8,1.6,1.4])*cm\n",
        "d = np.array([.2,.3,.4,.5])*cm"
      ],
      "metadata": {
        "id": "ZcIXjoYrh280"
      },
      "execution_count": null,
      "outputs": []
    },
    {
      "cell_type": "code",
      "source": [
        "L = 23.5*cm # Length of pendulum\n",
        "mg = 6.5e-4 # force of gravity on pendulum ball\n",
        "Fe = mg*d/L"
      ],
      "metadata": {
        "id": "gq5evR5-iBXx"
      },
      "execution_count": null,
      "outputs": []
    },
    {
      "cell_type": "code",
      "source": [
        "print(Fe)"
      ],
      "metadata": {
        "colab": {
          "base_uri": "https://localhost:8080/"
        },
        "id": "IIy336YwiD-z",
        "outputId": "d8fb3452-fb39-48c4-d2d2-0467a38ca420"
      },
      "execution_count": null,
      "outputs": [
        {
          "output_type": "stream",
          "name": "stdout",
          "text": [
            "[5.53191489e-06 8.29787234e-06 1.10638298e-05 1.38297872e-05]\n"
          ]
        }
      ]
    },
    {
      "cell_type": "code",
      "source": [
        "micro = 1e-6\n",
        "print(f\"force = {Fe/micro:.2f}micro N\")"
      ],
      "metadata": {
        "colab": {
          "base_uri": "https://localhost:8080/",
          "height": 184
        },
        "id": "AhVevYbXiFtg",
        "outputId": "ae438db5-8e1d-44bb-d8e2-a013910f081a"
      },
      "execution_count": null,
      "outputs": [
        {
          "output_type": "error",
          "ename": "TypeError",
          "evalue": "ignored",
          "traceback": [
            "\u001b[0;31m---------------------------------------------------------------------------\u001b[0m",
            "\u001b[0;31mTypeError\u001b[0m                                 Traceback (most recent call last)",
            "\u001b[0;32m<ipython-input-35-7038bf607c51>\u001b[0m in \u001b[0;36m<module>\u001b[0;34m()\u001b[0m\n\u001b[1;32m      1\u001b[0m \u001b[0mmicro\u001b[0m \u001b[0;34m=\u001b[0m \u001b[0;36m1e-6\u001b[0m\u001b[0;34m\u001b[0m\u001b[0;34m\u001b[0m\u001b[0m\n\u001b[0;32m----> 2\u001b[0;31m \u001b[0mprint\u001b[0m\u001b[0;34m(\u001b[0m\u001b[0;34mf\"force = {Fe/micro:.2f}micro N\"\u001b[0m\u001b[0;34m)\u001b[0m\u001b[0;34m\u001b[0m\u001b[0;34m\u001b[0m\u001b[0m\n\u001b[0m",
            "\u001b[0;31mTypeError\u001b[0m: unsupported format string passed to numpy.ndarray.__format__"
          ]
        }
      ]
    },
    {
      "cell_type": "code",
      "source": [
        "plt.figure(1)\n",
        "plt.plot(1/r**2,Fe)"
      ],
      "metadata": {
        "colab": {
          "base_uri": "https://localhost:8080/",
          "height": 293
        },
        "id": "RgpDG7-ZiHIs",
        "outputId": "30f864d8-3cf1-4549-c515-16320fcbac13"
      },
      "execution_count": null,
      "outputs": [
        {
          "output_type": "execute_result",
          "data": {
            "text/plain": [
              "[<matplotlib.lines.Line2D at 0x7fc07a8d5950>]"
            ]
          },
          "metadata": {},
          "execution_count": 6
        },
        {
          "output_type": "display_data",
          "data": {
            "image/png": "[encoded data removed]",
            "text/plain": [
              "<Figure size 432x288 with 1 Axes>"
            ]
          },
          "metadata": {
            "needs_background": "light"
          }
        }
      ]
    },
    {
      "cell_type": "code",
      "source": [
        "plt.figure(2)\n",
        "plt.plot(1/r**2/cm**2,Fe/micro,\"ks\")\n",
        "plt.xlabel(\"1/r^2 (cm^-2)\")\n",
        "plt.ylabel(\"Fe (micro N)\")\n",
        "plt.title(\"Coulomb Pendulum Results\")"
      ],
      "metadata": {
        "colab": {
          "base_uri": "https://localhost:8080/",
          "height": 312
        },
        "id": "aS0lX1CPiKdp",
        "outputId": "7db61480-a5b3-452e-e89d-de40dd50cb78"
      },
      "execution_count": null,
      "outputs": [
        {
          "output_type": "execute_result",
          "data": {
            "text/plain": [
              "Text(0.5, 1.0, 'Coulomb Pendulum Results')"
            ]
          },
          "metadata": {},
          "execution_count": 7
        },
        {
          "output_type": "display_data",
          "data": {
            "image/png": "[encoded data removed]",
            "text/plain": [
              "<Figure size 432x288 with 1 Axes>"
            ]
          },
          "metadata": {
            "needs_background": "light"
          }
        }
      ]
    },
    {
      "cell_type": "code",
      "source": [
        "plt.figure(3)\n",
        "plt.plot(1/r**2*cm**2,Fe/micro,’ks’,markersize=12)\n",
        "plt.xlabel(r\"$1/r^2$ (cm$^{-2})$\",fontsize=18)\n",
        "plt.ylabel(r\"$F_e$ (${\\rm \\mu}$N)\",fontsize=18)\n",
        "plt.title(\"Coulomb Pendulum Results\",fontsize=18)"
      ],
      "metadata": {
        "colab": {
          "base_uri": "https://localhost:8080/",
          "height": 131
        },
        "id": "xTnNHHEdiNMT",
        "outputId": "cbfee9cd-f6a7-4e1f-84e1-39a9601db82f"
      },
      "execution_count": null,
      "outputs": [
        {
          "output_type": "error",
          "ename": "SyntaxError",
          "evalue": "ignored",
          "traceback": [
            "\u001b[0;36m  File \u001b[0;32m\"<ipython-input-36-bc7d3ddcaf6a>\"\u001b[0;36m, line \u001b[0;32m2\u001b[0m\n\u001b[0;31m    plt.plot(1/r**2*cm**2,Fe/micro,’ks’,markersize=12)\u001b[0m\n\u001b[0m                                      ^\u001b[0m\n\u001b[0;31mSyntaxError\u001b[0m\u001b[0;31m:\u001b[0m invalid character in identifier\n"
          ]
        }
      ]
    },
    {
      "cell_type": "code",
      "source": [
        "from scipy.stats import linregress\n",
        "x = 1/r**2*cm**2\n",
        "y = Fe/micro\n",
        "res = linregress(x, y)\n",
        "plt.figure(4)\n",
        "plt.plot(x, y, ’o’, label=’experimental data’)\n",
        "plt.plot(x, res.intercept + res.slope*x, ’r’, label=’linear fit’)\n",
        "plt.legend()\n",
        "plt.xlabel(r\"$1/r^2$ (cm$^{-2})$\",fontsize=18)\n",
        "plt.ylabel(r\"$F_e$ (${\\rm \\mu}$N)\",fontsize=18)\n",
        "plt.title(\"Coulomb Pendulum Results\",fontsize=18)\n",
        "xtext = 0.2\n",
        "ytext = 12\n",
        "# you may have to change xtext and ytext to get the text placement properly on your graph\n",
        "plt.text(xtext, ytext, f\"R-squared: {res.rvalue**2:.3f}\")\n",
        "plt.show()"
      ],
      "metadata": {
        "colab": {
          "base_uri": "https://localhost:8080/",
          "height": 131
        },
        "id": "klnFNpSOiUu7",
        "outputId": "3d566f35-7f2c-4a62-9064-ebf14798c643"
      },
      "execution_count": null,
      "outputs": [
        {
          "output_type": "error",
          "ename": "SyntaxError",
          "evalue": "ignored",
          "traceback": [
            "\u001b[0;36m  File \u001b[0;32m\"<ipython-input-13-b8ebb77a445f>\"\u001b[0;36m, line \u001b[0;32m6\u001b[0m\n\u001b[0;31m    plt.plot(x, y, ’o’, label=’experimental data’)\u001b[0m\n\u001b[0m                     ^\u001b[0m\n\u001b[0;31mSyntaxError\u001b[0m\u001b[0;31m:\u001b[0m invalid character in identifier\n"
          ]
        }
      ]
    },
    {
      "cell_type": "code",
      "source": [
        "plt.savefig(\"figure4.png\",bbox_inches=\"tight\")\n",
        "files.download(\"figure4.png\")"
      ],
      "metadata": {
        "colab": {
          "base_uri": "https://localhost:8080/",
          "height": 201
        },
        "id": "-AYY1xBfirfO",
        "outputId": "b22aa819-f16c-4a2f-aad8-79903bb33e5b"
      },
      "execution_count": null,
      "outputs": [
        {
          "output_type": "error",
          "ename": "NameError",
          "evalue": "ignored",
          "traceback": [
            "\u001b[0;31m---------------------------------------------------------------------------\u001b[0m",
            "\u001b[0;31mNameError\u001b[0m                                 Traceback (most recent call last)",
            "\u001b[0;32m<ipython-input-14-a00152276524>\u001b[0m in \u001b[0;36m<module>\u001b[0;34m()\u001b[0m\n\u001b[1;32m      1\u001b[0m \u001b[0mplt\u001b[0m\u001b[0;34m.\u001b[0m\u001b[0msavefig\u001b[0m\u001b[0;34m(\u001b[0m\u001b[0;34m\"figure4.png\"\u001b[0m\u001b[0;34m,\u001b[0m\u001b[0mbbox_inches\u001b[0m\u001b[0;34m=\u001b[0m\u001b[0;34m\"tight\"\u001b[0m\u001b[0;34m)\u001b[0m\u001b[0;34m\u001b[0m\u001b[0;34m\u001b[0m\u001b[0m\n\u001b[0;32m----> 2\u001b[0;31m \u001b[0mfiles\u001b[0m\u001b[0;34m.\u001b[0m\u001b[0mdownload\u001b[0m\u001b[0;34m(\u001b[0m\u001b[0;34m\"figure4.png\"\u001b[0m\u001b[0;34m)\u001b[0m\u001b[0;34m\u001b[0m\u001b[0;34m\u001b[0m\u001b[0m\n\u001b[0m",
            "\u001b[0;31mNameError\u001b[0m: name 'files' is not defined"
          ]
        },
        {
          "output_type": "display_data",
          "data": {
            "text/plain": [
              "<Figure size 432x288 with 0 Axes>"
            ]
          },
          "metadata": {}
        }
      ]
    },
    {
      "cell_type": "code",
      "source": [
        "# Define the function called \"pcharge\"\n",
        "def pcharge(Q,x,y, x0,y0):\n",
        "    k = 8.99e9\n",
        "    r = np.sqrt((x-x0)**2 + (y-y0)**2)\n",
        "    V = k*Q/r\n",
        "    return V"
      ],
      "metadata": {
        "id": "yzFXhN18iv3e"
      },
      "execution_count": null,
      "outputs": []
    },
    {
      "cell_type": "code",
      "source": [
        "# Define a vector of x-values\n",
        "xv = np.linspace(-10,10,1000)\n",
        "cm = .01\n",
        "xv = xv*cm"
      ],
      "metadata": {
        "id": "R0ILRcRBiyfg"
      },
      "execution_count": null,
      "outputs": []
    },
    {
      "cell_type": "code",
      "source": [
        "# Define the point charge position\n",
        "x0 = 4*cm\n",
        "y0 = 4*cm\n",
        "# Define the y-position for the cut in x y=0\n",
        "# use a 1 picocoulumb charge\n",
        "pico = 1e-12\n",
        "Q = 1*pico\n",
        "# Calculate the potential\n",
        "V = pcharge(Q,xv,y, x0,y0)"
      ],
      "metadata": {
        "colab": {
          "base_uri": "https://localhost:8080/",
          "height": 201
        },
        "id": "ct4Z95r5i2TC",
        "outputId": "87d6e226-5ac8-428a-c9d4-d4cf6ddaa085"
      },
      "execution_count": null,
      "outputs": [
        {
          "output_type": "error",
          "ename": "NameError",
          "evalue": "ignored",
          "traceback": [
            "\u001b[0;31m---------------------------------------------------------------------------\u001b[0m",
            "\u001b[0;31mNameError\u001b[0m                                 Traceback (most recent call last)",
            "\u001b[0;32m<ipython-input-34-0d9a9dee56fa>\u001b[0m in \u001b[0;36m<module>\u001b[0;34m()\u001b[0m\n\u001b[1;32m      7\u001b[0m \u001b[0mQ\u001b[0m \u001b[0;34m=\u001b[0m \u001b[0;36m1\u001b[0m\u001b[0;34m*\u001b[0m\u001b[0mpico\u001b[0m\u001b[0;34m\u001b[0m\u001b[0;34m\u001b[0m\u001b[0m\n\u001b[1;32m      8\u001b[0m \u001b[0;31m# Calculate the potential\u001b[0m\u001b[0;34m\u001b[0m\u001b[0;34m\u001b[0m\u001b[0;34m\u001b[0m\u001b[0m\n\u001b[0;32m----> 9\u001b[0;31m \u001b[0mV\u001b[0m \u001b[0;34m=\u001b[0m \u001b[0mpcharge\u001b[0m\u001b[0;34m(\u001b[0m\u001b[0mQ\u001b[0m\u001b[0;34m,\u001b[0m\u001b[0mxv\u001b[0m\u001b[0;34m,\u001b[0m\u001b[0my\u001b[0m\u001b[0;34m,\u001b[0m \u001b[0mx0\u001b[0m\u001b[0;34m,\u001b[0m\u001b[0my0\u001b[0m\u001b[0;34m)\u001b[0m\u001b[0;34m\u001b[0m\u001b[0;34m\u001b[0m\u001b[0m\n\u001b[0m",
            "\u001b[0;31mNameError\u001b[0m: name 'y' is not defined"
          ]
        }
      ]
    },
    {
      "cell_type": "code",
      "source": [
        "plt.figure(5)\n",
        "plt.plot(xv/cm,V)\n",
        "plt.title(f\"1 $\\mu$C charge at x0 = {x0:.1f}, y0 ={y0:.1f} for y = {y:.1f} \")\n",
        "plt.xlabel(’x-Displacement (cm)’)\n",
        "plt.ylabel(’Electric Potential (V)’)*cm"
      ],
      "metadata": {
        "colab": {
          "base_uri": "https://localhost:8080/",
          "height": 131
        },
        "id": "HirP0_sCi8Ew",
        "outputId": "9073649a-9fc9-4253-b3c9-c6526cb280e1"
      },
      "execution_count": null,
      "outputs": [
        {
          "output_type": "error",
          "ename": "SyntaxError",
          "evalue": "ignored",
          "traceback": [
            "\u001b[0;36m  File \u001b[0;32m\"<ipython-input-18-0bf9b6bb0a69>\"\u001b[0;36m, line \u001b[0;32m4\u001b[0m\n\u001b[0;31m    plt.xlabel(’x-Displacement (cm)’)\u001b[0m\n\u001b[0m                ^\u001b[0m\n\u001b[0;31mSyntaxError\u001b[0m\u001b[0;31m:\u001b[0m invalid character in identifier\n"
          ]
        }
      ]
    },
    {
      "cell_type": "code",
      "source": [
        "x=0\n",
        "yv = np.linspace(-10,10,1000)*cm\n",
        "V = pcharge(Q,x,yv,x0,y0)\n",
        "# Plot the graph and label it\n",
        "plt.figure(6)\n",
        "plt.plot(yv/cm,V)\n",
        "plt.title(f\"1 $\\mu$C charge at x0 = {x0:.1f}, y0 ={y0:.1f} for x = {x:.1f} \") plt.xlabel(’y-Displacement (cm)’)\n",
        "plt.ylabel(’Electric Potential (V)’)"
      ],
      "metadata": {
        "colab": {
          "base_uri": "https://localhost:8080/",
          "height": 131
        },
        "id": "PNw6F3K3i_V7",
        "outputId": "19e09c13-fe09-4f37-c6b0-e772afd36660"
      },
      "execution_count": null,
      "outputs": [
        {
          "output_type": "error",
          "ename": "SyntaxError",
          "evalue": "ignored",
          "traceback": [
            "\u001b[0;36m  File \u001b[0;32m\"<ipython-input-19-c7b4b3d3fe6d>\"\u001b[0;36m, line \u001b[0;32m7\u001b[0m\n\u001b[0;31m    plt.title(f\"1 $\\mu$C charge at x0 = {x0:.1f}, y0 ={y0:.1f} for x = {x:.1f} \") plt.xlabel(’y-Displacement (cm)’)\u001b[0m\n\u001b[0m                                                                                    ^\u001b[0m\n\u001b[0;31mSyntaxError\u001b[0m\u001b[0;31m:\u001b[0m invalid syntax\n"
          ]
        }
      ]
    },
    {
      "cell_type": "code",
      "source": [
        "xv = np.linspace(-10,10,10)*cm\n",
        "yv = np.linspace(-10,10,10)*cm\n",
        "XM,YM = np.meshgrid(xv,yv)\n",
        "print(\"xv = \",xv/cm)\n",
        "print(\"yv = \", yv/cm)\n",
        "print(\"XM =\", XM/cm)\n",
        "print(\"YM =\", YM/cm)"
      ],
      "metadata": {
        "colab": {
          "base_uri": "https://localhost:8080/"
        },
        "id": "7c8hnr-djCFY",
        "outputId": "69f7f52f-ee45-4169-dca1-c70afadbaff3"
      },
      "execution_count": null,
      "outputs": [
        {
          "output_type": "stream",
          "name": "stdout",
          "text": [
            "xv =  [-10.          -7.77777778  -5.55555556  -3.33333333  -1.11111111\n",
            "   1.11111111   3.33333333   5.55555556   7.77777778  10.        ]\n",
            "yv =  [-10.          -7.77777778  -5.55555556  -3.33333333  -1.11111111\n",
            "   1.11111111   3.33333333   5.55555556   7.77777778  10.        ]\n",
            "XM = [[-10.          -7.77777778  -5.55555556  -3.33333333  -1.11111111\n",
            "    1.11111111   3.33333333   5.55555556   7.77777778  10.        ]\n",
            " [-10.          -7.77777778  -5.55555556  -3.33333333  -1.11111111\n",
            "    1.11111111   3.33333333   5.55555556   7.77777778  10.        ]\n",
            " [-10.          -7.77777778  -5.55555556  -3.33333333  -1.11111111\n",
            "    1.11111111   3.33333333   5.55555556   7.77777778  10.        ]\n",
            " [-10.          -7.77777778  -5.55555556  -3.33333333  -1.11111111\n",
            "    1.11111111   3.33333333   5.55555556   7.77777778  10.        ]\n",
            " [-10.          -7.77777778  -5.55555556  -3.33333333  -1.11111111\n",
            "    1.11111111   3.33333333   5.55555556   7.77777778  10.        ]\n",
            " [-10.          -7.77777778  -5.55555556  -3.33333333  -1.11111111\n",
            "    1.11111111   3.33333333   5.55555556   7.77777778  10.        ]\n",
            " [-10.          -7.77777778  -5.55555556  -3.33333333  -1.11111111\n",
            "    1.11111111   3.33333333   5.55555556   7.77777778  10.        ]\n",
            " [-10.          -7.77777778  -5.55555556  -3.33333333  -1.11111111\n",
            "    1.11111111   3.33333333   5.55555556   7.77777778  10.        ]\n",
            " [-10.          -7.77777778  -5.55555556  -3.33333333  -1.11111111\n",
            "    1.11111111   3.33333333   5.55555556   7.77777778  10.        ]\n",
            " [-10.          -7.77777778  -5.55555556  -3.33333333  -1.11111111\n",
            "    1.11111111   3.33333333   5.55555556   7.77777778  10.        ]]\n",
            "YM = [[-10.         -10.         -10.         -10.         -10.\n",
            "  -10.         -10.         -10.         -10.         -10.        ]\n",
            " [ -7.77777778  -7.77777778  -7.77777778  -7.77777778  -7.77777778\n",
            "   -7.77777778  -7.77777778  -7.77777778  -7.77777778  -7.77777778]\n",
            " [ -5.55555556  -5.55555556  -5.55555556  -5.55555556  -5.55555556\n",
            "   -5.55555556  -5.55555556  -5.55555556  -5.55555556  -5.55555556]\n",
            " [ -3.33333333  -3.33333333  -3.33333333  -3.33333333  -3.33333333\n",
            "   -3.33333333  -3.33333333  -3.33333333  -3.33333333  -3.33333333]\n",
            " [ -1.11111111  -1.11111111  -1.11111111  -1.11111111  -1.11111111\n",
            "   -1.11111111  -1.11111111  -1.11111111  -1.11111111  -1.11111111]\n",
            " [  1.11111111   1.11111111   1.11111111   1.11111111   1.11111111\n",
            "    1.11111111   1.11111111   1.11111111   1.11111111   1.11111111]\n",
            " [  3.33333333   3.33333333   3.33333333   3.33333333   3.33333333\n",
            "    3.33333333   3.33333333   3.33333333   3.33333333   3.33333333]\n",
            " [  5.55555556   5.55555556   5.55555556   5.55555556   5.55555556\n",
            "    5.55555556   5.55555556   5.55555556   5.55555556   5.55555556]\n",
            " [  7.77777778   7.77777778   7.77777778   7.77777778   7.77777778\n",
            "    7.77777778   7.77777778   7.77777778   7.77777778   7.77777778]\n",
            " [ 10.          10.          10.          10.          10.\n",
            "   10.          10.          10.          10.          10.        ]]\n"
          ]
        }
      ]
    },
    {
      "cell_type": "code",
      "source": [
        "npt = 1000 # use 1000x1000 points for a nice smooth function\n",
        "xv = np.linspace(-10,10,npt)*cm\n",
        "yv = np.linspace(-10,10,npt)*cm\n",
        "XM,YM = np.meshgrid(xv,yv)\n",
        "V = pcharge(Q,XM,YM,x0,y0)\n",
        "levels = np.array([.01,.02,.05,.1,.2,.5,1,2,5]) # set heights for contour levels\n",
        "plt.contour(XM,YM,V,levels)"
      ],
      "metadata": {
        "colab": {
          "base_uri": "https://localhost:8080/",
          "height": 286
        },
        "id": "q2RfArNQjGhy",
        "outputId": "7b432b09-76b9-489f-9e7c-a3bc1aeb42f0"
      },
      "execution_count": null,
      "outputs": [
        {
          "output_type": "execute_result",
          "data": {
            "text/plain": [
              "<matplotlib.contour.QuadContourSet at 0x7fc06c9cfa50>"
            ]
          },
          "metadata": {},
          "execution_count": 21
        },
        {
          "output_type": "display_data",
          "data": {
            "image/png": "[encoded data removed]",
            "text/plain": [
              "<Figure size 432x288 with 1 Axes>"
            ]
          },
          "metadata": {
            "needs_background": "light"
          }
        }
      ]
    },
    {
      "cell_type": "code",
      "source": [
        "QP = 1*pico # define the positive charge\n",
        "xp = -4*cm\n",
        "yp = 0\n",
        "Vp = pcharge(Qp,XM,YM,xp,yp)\n",
        "QM = -1*pico # define the negative charge\n",
        "xm = 4*cm\n",
        "ym = 0\n",
        "Vm = pcharge(Qm,XM,YM,xm,ym)\n",
        "# add up the potential from both charges\n",
        "Vtot = Vp+Vm\n",
        "levels = np.array([-.5,-.2,-.1,-.05,-.02,-.01,.01,.02,.05,.1,.2,.5])\n",
        "plt.contour(XM,YM,Vtot,levels)"
      ],
      "metadata": {
        "colab": {
          "base_uri": "https://localhost:8080/",
          "height": 236
        },
        "id": "HVkUGM2-jKGs",
        "outputId": "facb99b1-db45-402a-9eaa-0521beb277b5"
      },
      "execution_count": null,
      "outputs": [
        {
          "output_type": "error",
          "ename": "NameError",
          "evalue": "ignored",
          "traceback": [
            "\u001b[0;31m---------------------------------------------------------------------------\u001b[0m",
            "\u001b[0;31mNameError\u001b[0m                                 Traceback (most recent call last)",
            "\u001b[0;32m<ipython-input-22-aeec20322243>\u001b[0m in \u001b[0;36m<module>\u001b[0;34m()\u001b[0m\n\u001b[1;32m      2\u001b[0m \u001b[0mxp\u001b[0m \u001b[0;34m=\u001b[0m \u001b[0;34m-\u001b[0m\u001b[0;36m4\u001b[0m\u001b[0;34m*\u001b[0m\u001b[0mcm\u001b[0m\u001b[0;34m\u001b[0m\u001b[0;34m\u001b[0m\u001b[0m\n\u001b[1;32m      3\u001b[0m \u001b[0myp\u001b[0m \u001b[0;34m=\u001b[0m \u001b[0;36m0\u001b[0m\u001b[0;34m\u001b[0m\u001b[0;34m\u001b[0m\u001b[0m\n\u001b[0;32m----> 4\u001b[0;31m \u001b[0mVp\u001b[0m \u001b[0;34m=\u001b[0m \u001b[0mpcharge\u001b[0m\u001b[0;34m(\u001b[0m\u001b[0mQp\u001b[0m\u001b[0;34m,\u001b[0m\u001b[0mXM\u001b[0m\u001b[0;34m,\u001b[0m\u001b[0mYM\u001b[0m\u001b[0;34m,\u001b[0m\u001b[0mxp\u001b[0m\u001b[0;34m,\u001b[0m\u001b[0myp\u001b[0m\u001b[0;34m)\u001b[0m\u001b[0;34m\u001b[0m\u001b[0;34m\u001b[0m\u001b[0m\n\u001b[0m\u001b[1;32m      5\u001b[0m \u001b[0mQM\u001b[0m \u001b[0;34m=\u001b[0m \u001b[0;34m-\u001b[0m\u001b[0;36m1\u001b[0m\u001b[0;34m*\u001b[0m\u001b[0mpico\u001b[0m \u001b[0;31m# define the negative charge\u001b[0m\u001b[0;34m\u001b[0m\u001b[0;34m\u001b[0m\u001b[0m\n\u001b[1;32m      6\u001b[0m \u001b[0mxm\u001b[0m \u001b[0;34m=\u001b[0m \u001b[0;36m4\u001b[0m\u001b[0;34m*\u001b[0m\u001b[0mcm\u001b[0m\u001b[0;34m\u001b[0m\u001b[0;34m\u001b[0m\u001b[0m\n",
            "\u001b[0;31mNameError\u001b[0m: name 'Qp' is not defined"
          ]
        }
      ]
    }
  ]
}